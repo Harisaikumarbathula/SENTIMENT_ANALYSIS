{
 "cells": [
  {
   "cell_type": "code",
   "execution_count": null,
   "metadata": {},
   "outputs": [
    {
     "name": "stdout",
     "output_type": "stream",
     "text": [
      "Requirement already satisfied: tensorflow==2.10.0 in .\\.venv\\lib\\site-packages (from -r requirements.txt (line 1)) (2.10.0)Note: you may need to restart the kernel to use updated packages.\n"
     ]
    },
    {
     "name": "stderr",
     "output_type": "stream",
     "text": [
      "  error: subprocess-exited-with-error\n",
      "  \n",
      "  × Preparing metadata (pyproject.toml) did not run successfully.\n",
      "  │ exit code: 1\n",
      "  ╰─> [6 lines of output]\n",
      "      Checking for Rust toolchain....\n",
      "      \n",
      "      Cargo, the Rust package manager, is not installed or is not on PATH.\n",
      "      This package requires Rust and Cargo to compile extensions. Install it through\n",
      "      the system's package manager or via https://rustup.rs/\n",
      "      \n",
      "      [end of output]\n",
      "  \n",
      "  note: This error originates from a subprocess, and is likely not a problem with pip.\n",
      "error: metadata-generation-failed\n",
      "\n",
      "× Encountered error while generating package metadata.\n",
      "╰─> See above for output.\n",
      "\n",
      "note: This is an issue with the package mentioned above, not pip.\n",
      "hint: See above for details.\n"
     ]
    },
    {
     "name": "stdout",
     "output_type": "stream",
     "text": [
      "\n",
      "Requirement already satisfied: keras in .\\.venv\\lib\\site-packages (from -r requirements.txt (line 2)) (2.10.0)\n",
      "Requirement already satisfied: pandas in .\\.venv\\lib\\site-packages (from -r requirements.txt (line 3)) (2.0.3)\n",
      "Requirement already satisfied: numpy in .\\.venv\\lib\\site-packages (from -r requirements.txt (line 4)) (1.24.3)\n",
      "Collecting jupyter (from -r requirements.txt (line 5))\n",
      "  Using cached jupyter-1.1.1-py2.py3-none-any.whl.metadata (2.0 kB)\n",
      "Collecting notebook (from -r requirements.txt (line 6))\n",
      "  Using cached notebook-7.3.3-py3-none-any.whl.metadata (10 kB)\n",
      "Requirement already satisfied: tqdm in .\\.venv\\lib\\site-packages (from -r requirements.txt (line 7)) (4.67.1)\n",
      "Requirement already satisfied: opencv-python in .\\.venv\\lib\\site-packages (from -r requirements.txt (line 8)) (4.11.0.86)\n",
      "Collecting scikit-learn (from -r requirements.txt (line 9))\n",
      "  Using cached scikit_learn-1.3.2-cp38-cp38-win_amd64.whl.metadata (11 kB)\n",
      "Requirement already satisfied: gradio in .\\.venv\\lib\\site-packages (from -r requirements.txt (line 10)) (4.44.1)\n",
      "Requirement already satisfied: absl-py>=1.0.0 in .\\.venv\\lib\\site-packages (from tensorflow==2.10.0->-r requirements.txt (line 1)) (2.2.2)\n",
      "Requirement already satisfied: astunparse>=1.6.0 in .\\.venv\\lib\\site-packages (from tensorflow==2.10.0->-r requirements.txt (line 1)) (1.6.3)\n",
      "Requirement already satisfied: flatbuffers>=2.0 in .\\.venv\\lib\\site-packages (from tensorflow==2.10.0->-r requirements.txt (line 1)) (25.2.10)\n",
      "Requirement already satisfied: gast<=0.4.0,>=0.2.1 in .\\.venv\\lib\\site-packages (from tensorflow==2.10.0->-r requirements.txt (line 1)) (0.4.0)\n",
      "Requirement already satisfied: google-pasta>=0.1.1 in .\\.venv\\lib\\site-packages (from tensorflow==2.10.0->-r requirements.txt (line 1)) (0.2.0)\n",
      "Requirement already satisfied: h5py>=2.9.0 in .\\.venv\\lib\\site-packages (from tensorflow==2.10.0->-r requirements.txt (line 1)) (3.11.0)\n",
      "Requirement already satisfied: keras-preprocessing>=1.1.1 in .\\.venv\\lib\\site-packages (from tensorflow==2.10.0->-r requirements.txt (line 1)) (1.1.2)\n",
      "Requirement already satisfied: libclang>=13.0.0 in .\\.venv\\lib\\site-packages (from tensorflow==2.10.0->-r requirements.txt (line 1)) (18.1.1)\n",
      "Requirement already satisfied: opt-einsum>=2.3.2 in .\\.venv\\lib\\site-packages (from tensorflow==2.10.0->-r requirements.txt (line 1)) (3.4.0)\n",
      "Requirement already satisfied: packaging in .\\.venv\\lib\\site-packages (from tensorflow==2.10.0->-r requirements.txt (line 1)) (24.2)\n",
      "Requirement already satisfied: protobuf<3.20,>=3.9.2 in .\\.venv\\lib\\site-packages (from tensorflow==2.10.0->-r requirements.txt (line 1)) (3.19.6)\n",
      "Requirement already satisfied: setuptools in .\\.venv\\lib\\site-packages (from tensorflow==2.10.0->-r requirements.txt (line 1)) (41.2.0)\n",
      "Requirement already satisfied: six>=1.12.0 in .\\.venv\\lib\\site-packages (from tensorflow==2.10.0->-r requirements.txt (line 1)) (1.17.0)\n",
      "Requirement already satisfied: termcolor>=1.1.0 in .\\.venv\\lib\\site-packages (from tensorflow==2.10.0->-r requirements.txt (line 1)) (2.4.0)\n",
      "Requirement already satisfied: typing-extensions>=3.6.6 in .\\.venv\\lib\\site-packages (from tensorflow==2.10.0->-r requirements.txt (line 1)) (4.13.1)\n",
      "Requirement already satisfied: wrapt>=1.11.0 in .\\.venv\\lib\\site-packages (from tensorflow==2.10.0->-r requirements.txt (line 1)) (1.17.2)\n",
      "Requirement already satisfied: tensorflow-io-gcs-filesystem>=0.23.1 in .\\.venv\\lib\\site-packages (from tensorflow==2.10.0->-r requirements.txt (line 1)) (0.31.0)\n",
      "Requirement already satisfied: grpcio<2.0,>=1.24.3 in .\\.venv\\lib\\site-packages (from tensorflow==2.10.0->-r requirements.txt (line 1)) (1.70.0)\n",
      "Requirement already satisfied: tensorboard<2.11,>=2.10 in .\\.venv\\lib\\site-packages (from tensorflow==2.10.0->-r requirements.txt (line 1)) (2.10.1)\n",
      "Requirement already satisfied: tensorflow-estimator<2.11,>=2.10.0 in .\\.venv\\lib\\site-packages (from tensorflow==2.10.0->-r requirements.txt (line 1)) (2.10.0)\n",
      "Requirement already satisfied: python-dateutil>=2.8.2 in .\\.venv\\lib\\site-packages (from pandas->-r requirements.txt (line 3)) (2.9.0.post0)\n",
      "Requirement already satisfied: pytz>=2020.1 in .\\.venv\\lib\\site-packages (from pandas->-r requirements.txt (line 3)) (2025.2)\n",
      "Requirement already satisfied: tzdata>=2022.1 in .\\.venv\\lib\\site-packages (from pandas->-r requirements.txt (line 3)) (2025.2)\n",
      "Collecting jupyter-console (from jupyter->-r requirements.txt (line 5))\n",
      "  Using cached jupyter_console-6.6.3-py3-none-any.whl.metadata (5.8 kB)\n",
      "Collecting nbconvert (from jupyter->-r requirements.txt (line 5))\n",
      "  Using cached nbconvert-7.16.6-py3-none-any.whl.metadata (8.5 kB)\n",
      "Requirement already satisfied: ipykernel in .\\.venv\\lib\\site-packages (from jupyter->-r requirements.txt (line 5)) (6.29.5)\n",
      "Collecting ipywidgets (from jupyter->-r requirements.txt (line 5))\n",
      "  Using cached ipywidgets-8.1.5-py3-none-any.whl.metadata (2.3 kB)\n",
      "Collecting jupyterlab (from jupyter->-r requirements.txt (line 5))\n",
      "  Using cached jupyterlab-4.3.6-py3-none-any.whl.metadata (16 kB)\n",
      "Collecting jupyter-server<3,>=2.4.0 (from notebook->-r requirements.txt (line 6))\n",
      "  Using cached jupyter_server-2.14.2-py3-none-any.whl.metadata (8.4 kB)\n",
      "Collecting jupyterlab-server<3,>=2.27.1 (from notebook->-r requirements.txt (line 6))\n",
      "  Using cached jupyterlab_server-2.27.3-py3-none-any.whl.metadata (5.9 kB)\n",
      "Collecting notebook-shim<0.3,>=0.2 (from notebook->-r requirements.txt (line 6))\n",
      "  Using cached notebook_shim-0.2.4-py3-none-any.whl.metadata (4.0 kB)\n",
      "Requirement already satisfied: tornado>=6.2.0 in .\\.venv\\lib\\site-packages (from notebook->-r requirements.txt (line 6)) (6.4.2)\n",
      "Requirement already satisfied: colorama in .\\.venv\\lib\\site-packages (from tqdm->-r requirements.txt (line 7)) (0.4.6)\n",
      "Collecting scipy>=1.5.0 (from scikit-learn->-r requirements.txt (line 9))\n",
      "  Using cached scipy-1.10.1-cp38-cp38-win_amd64.whl.metadata (58 kB)\n",
      "Collecting joblib>=1.1.1 (from scikit-learn->-r requirements.txt (line 9))\n",
      "  Using cached joblib-1.4.2-py3-none-any.whl.metadata (5.4 kB)\n",
      "Collecting threadpoolctl>=2.0.0 (from scikit-learn->-r requirements.txt (line 9))\n",
      "  Using cached threadpoolctl-3.5.0-py3-none-any.whl.metadata (13 kB)\n",
      "Requirement already satisfied: aiofiles<24.0,>=22.0 in .\\.venv\\lib\\site-packages (from gradio->-r requirements.txt (line 10)) (23.2.1)\n",
      "Requirement already satisfied: anyio<5.0,>=3.0 in .\\.venv\\lib\\site-packages (from gradio->-r requirements.txt (line 10)) (4.5.2)\n",
      "Requirement already satisfied: fastapi<1.0 in .\\.venv\\lib\\site-packages (from gradio->-r requirements.txt (line 10)) (0.115.12)\n",
      "Requirement already satisfied: ffmpy in .\\.venv\\lib\\site-packages (from gradio->-r requirements.txt (line 10)) (0.5.0)\n",
      "Requirement already satisfied: gradio-client==1.3.0 in .\\.venv\\lib\\site-packages (from gradio->-r requirements.txt (line 10)) (1.3.0)\n",
      "Requirement already satisfied: httpx>=0.24.1 in .\\.venv\\lib\\site-packages (from gradio->-r requirements.txt (line 10)) (0.28.1)\n",
      "Requirement already satisfied: huggingface-hub>=0.19.3 in .\\.venv\\lib\\site-packages (from gradio->-r requirements.txt (line 10)) (0.30.1)\n",
      "Requirement already satisfied: importlib-resources<7.0,>=1.3 in .\\.venv\\lib\\site-packages (from gradio->-r requirements.txt (line 10)) (6.4.5)\n",
      "Requirement already satisfied: jinja2<4.0 in .\\.venv\\lib\\site-packages (from gradio->-r requirements.txt (line 10)) (3.1.6)\n",
      "Requirement already satisfied: markupsafe~=2.0 in .\\.venv\\lib\\site-packages (from gradio->-r requirements.txt (line 10)) (2.1.5)\n",
      "Requirement already satisfied: matplotlib~=3.0 in .\\.venv\\lib\\site-packages (from gradio->-r requirements.txt (line 10)) (3.7.5)\n",
      "Requirement already satisfied: orjson~=3.0 in .\\.venv\\lib\\site-packages (from gradio->-r requirements.txt (line 10)) (3.10.15)\n",
      "Requirement already satisfied: pillow<11.0,>=8.0 in .\\.venv\\lib\\site-packages (from gradio->-r requirements.txt (line 10)) (10.4.0)\n",
      "Requirement already satisfied: pydantic>=2.0 in .\\.venv\\lib\\site-packages (from gradio->-r requirements.txt (line 10)) (2.10.6)\n",
      "Requirement already satisfied: pydub in .\\.venv\\lib\\site-packages (from gradio->-r requirements.txt (line 10)) (0.25.1)\n",
      "Requirement already satisfied: python-multipart>=0.0.9 in .\\.venv\\lib\\site-packages (from gradio->-r requirements.txt (line 10)) (0.0.20)\n",
      "Requirement already satisfied: pyyaml<7.0,>=5.0 in .\\.venv\\lib\\site-packages (from gradio->-r requirements.txt (line 10)) (6.0.2)\n",
      "Requirement already satisfied: ruff>=0.2.2 in .\\.venv\\lib\\site-packages (from gradio->-r requirements.txt (line 10)) (0.11.4)\n",
      "Requirement already satisfied: semantic-version~=2.0 in .\\.venv\\lib\\site-packages (from gradio->-r requirements.txt (line 10)) (2.10.0)\n",
      "Requirement already satisfied: tomlkit==0.12.0 in .\\.venv\\lib\\site-packages (from gradio->-r requirements.txt (line 10)) (0.12.0)\n",
      "Requirement already satisfied: typer<1.0,>=0.12 in .\\.venv\\lib\\site-packages (from gradio->-r requirements.txt (line 10)) (0.15.2)\n",
      "Requirement already satisfied: urllib3~=2.0 in .\\.venv\\lib\\site-packages (from gradio->-r requirements.txt (line 10)) (2.2.3)\n",
      "Requirement already satisfied: uvicorn>=0.14.0 in .\\.venv\\lib\\site-packages (from gradio->-r requirements.txt (line 10)) (0.33.0)\n",
      "Requirement already satisfied: fsspec in .\\.venv\\lib\\site-packages (from gradio-client==1.3.0->gradio->-r requirements.txt (line 10)) (2025.3.0)\n",
      "Requirement already satisfied: websockets<13.0,>=10.0 in .\\.venv\\lib\\site-packages (from gradio-client==1.3.0->gradio->-r requirements.txt (line 10)) (12.0)\n",
      "Requirement already satisfied: idna>=2.8 in .\\.venv\\lib\\site-packages (from anyio<5.0,>=3.0->gradio->-r requirements.txt (line 10)) (3.10)\n",
      "Requirement already satisfied: sniffio>=1.1 in .\\.venv\\lib\\site-packages (from anyio<5.0,>=3.0->gradio->-r requirements.txt (line 10)) (1.3.1)\n",
      "Requirement already satisfied: exceptiongroup>=1.0.2 in .\\.venv\\lib\\site-packages (from anyio<5.0,>=3.0->gradio->-r requirements.txt (line 10)) (1.2.2)\n",
      "Requirement already satisfied: wheel<1.0,>=0.23.0 in .\\.venv\\lib\\site-packages (from astunparse>=1.6.0->tensorflow==2.10.0->-r requirements.txt (line 1)) (0.45.1)\n",
      "Requirement already satisfied: starlette<0.47.0,>=0.40.0 in .\\.venv\\lib\\site-packages (from fastapi<1.0->gradio->-r requirements.txt (line 10)) (0.44.0)\n",
      "Requirement already satisfied: certifi in .\\.venv\\lib\\site-packages (from httpx>=0.24.1->gradio->-r requirements.txt (line 10)) (2025.1.31)\n",
      "Requirement already satisfied: httpcore==1.* in .\\.venv\\lib\\site-packages (from httpx>=0.24.1->gradio->-r requirements.txt (line 10)) (1.0.7)\n",
      "Requirement already satisfied: h11<0.15,>=0.13 in .\\.venv\\lib\\site-packages (from httpcore==1.*->httpx>=0.24.1->gradio->-r requirements.txt (line 10)) (0.14.0)\n",
      "Requirement already satisfied: filelock in .\\.venv\\lib\\site-packages (from huggingface-hub>=0.19.3->gradio->-r requirements.txt (line 10)) (3.16.1)\n",
      "Requirement already satisfied: requests in .\\.venv\\lib\\site-packages (from huggingface-hub>=0.19.3->gradio->-r requirements.txt (line 10)) (2.32.3)\n",
      "Requirement already satisfied: zipp>=3.1.0 in .\\.venv\\lib\\site-packages (from importlib-resources<7.0,>=1.3->gradio->-r requirements.txt (line 10)) (3.20.2)\n",
      "Collecting argon2-cffi>=21.1 (from jupyter-server<3,>=2.4.0->notebook->-r requirements.txt (line 6))\n",
      "  Using cached argon2_cffi-23.1.0-py3-none-any.whl.metadata (5.2 kB)\n",
      "Requirement already satisfied: jupyter-client>=7.4.4 in .\\.venv\\lib\\site-packages (from jupyter-server<3,>=2.4.0->notebook->-r requirements.txt (line 6)) (8.6.3)\n",
      "Requirement already satisfied: jupyter-core!=5.0.*,>=4.12 in .\\.venv\\lib\\site-packages (from jupyter-server<3,>=2.4.0->notebook->-r requirements.txt (line 6)) (5.7.2)\n",
      "Collecting jupyter-events>=0.9.0 (from jupyter-server<3,>=2.4.0->notebook->-r requirements.txt (line 6))\n",
      "  Using cached jupyter_events-0.10.0-py3-none-any.whl.metadata (5.9 kB)\n",
      "Collecting jupyter-server-terminals>=0.4.4 (from jupyter-server<3,>=2.4.0->notebook->-r requirements.txt (line 6))\n",
      "  Using cached jupyter_server_terminals-0.5.3-py3-none-any.whl.metadata (5.6 kB)\n",
      "Collecting nbformat>=5.3.0 (from jupyter-server<3,>=2.4.0->notebook->-r requirements.txt (line 6))\n",
      "  Using cached nbformat-5.10.4-py3-none-any.whl.metadata (3.6 kB)\n",
      "Collecting overrides>=5.0 (from jupyter-server<3,>=2.4.0->notebook->-r requirements.txt (line 6))\n",
      "  Using cached overrides-7.7.0-py3-none-any.whl.metadata (5.8 kB)\n",
      "Collecting prometheus-client>=0.9 (from jupyter-server<3,>=2.4.0->notebook->-r requirements.txt (line 6))\n",
      "  Using cached prometheus_client-0.21.1-py3-none-any.whl.metadata (1.8 kB)\n",
      "Collecting pywinpty>=2.0.1 (from jupyter-server<3,>=2.4.0->notebook->-r requirements.txt (line 6))\n",
      "  Using cached pywinpty-2.0.14.tar.gz (27 kB)\n",
      "  Installing build dependencies: started\n",
      "  Installing build dependencies: finished with status 'done'\n",
      "  Getting requirements to build wheel: started\n",
      "  Getting requirements to build wheel: finished with status 'done'\n",
      "  Preparing metadata (pyproject.toml): started\n",
      "  Preparing metadata (pyproject.toml): finished with status 'error'\n"
     ]
    }
   ],
   "source": [
    "pip install -r requirements.txt"
   ]
  },
  {
   "cell_type": "code",
   "execution_count": 11,
   "metadata": {},
   "outputs": [
    {
     "name": "stdout",
     "output_type": "stream",
     "text": [
      "Collecting scikit-learn\n",
      "  Using cached scikit_learn-1.3.2-cp38-cp38-win_amd64.whl.metadata (11 kB)\n",
      "Requirement already satisfied: numpy<2.0,>=1.17.3 in .\\.venv\\lib\\site-packages (from scikit-learn) (1.24.3)\n",
      "Collecting scipy>=1.5.0 (from scikit-learn)\n",
      "  Using cached scipy-1.10.1-cp38-cp38-win_amd64.whl.metadata (58 kB)\n",
      "Collecting joblib>=1.1.1 (from scikit-learn)\n",
      "  Using cached joblib-1.4.2-py3-none-any.whl.metadata (5.4 kB)\n",
      "Collecting threadpoolctl>=2.0.0 (from scikit-learn)\n",
      "  Using cached threadpoolctl-3.5.0-py3-none-any.whl.metadata (13 kB)\n",
      "Using cached scikit_learn-1.3.2-cp38-cp38-win_amd64.whl (9.3 MB)\n",
      "Using cached joblib-1.4.2-py3-none-any.whl (301 kB)\n",
      "Using cached scipy-1.10.1-cp38-cp38-win_amd64.whl (42.2 MB)\n",
      "Using cached threadpoolctl-3.5.0-py3-none-any.whl (18 kB)\n",
      "Installing collected packages: threadpoolctl, scipy, joblib, scikit-learn\n",
      "Successfully installed joblib-1.4.2 scikit-learn-1.3.2 scipy-1.10.1 threadpoolctl-3.5.0\n",
      "Note: you may need to restart the kernel to use updated packages.\n"
     ]
    }
   ],
   "source": [
    "pip install scikit-learn"
   ]
  },
  {
   "cell_type": "code",
   "execution_count": 13,
   "metadata": {},
   "outputs": [],
   "source": [
    "# Import necessary libraries\n",
    "import matplotlib.pyplot as plt\n",
    "import pandas as pd\n",
    "import cv2\n",
    "import tensorflow as tf\n",
    "from tensorflow.keras.models import Sequential\n",
    "from tensorflow.keras.layers import Conv2D, MaxPooling2D, Dense, Flatten, Dropout\n",
    "from tensorflow.keras.optimizers import Adam\n",
    "from sklearn.model_selection import train_test_split\n",
    "from tensorflow.keras.utils import to_categorical\n",
    "import numpy as np\n",
    "from tensorflow.keras.utils import to_categorical\n",
    "import matplotlib.pyplot as  plt "
   ]
  },
  {
   "cell_type": "code",
   "execution_count": 14,
   "metadata": {},
   "outputs": [],
   "source": [
    "IMG_SIZE = 48\n",
    "NUM_CLASSES = 7"
   ]
  },
  {
   "cell_type": "code",
   "execution_count": 15,
   "metadata": {},
   "outputs": [],
   "source": [
    "def load_fer_data(csv_file):\n",
    "    data = pd.read_csv(csv_file)\n",
    "    # Get pixel values and labels\n",
    "    pixels = data['pixels'].tolist()\n",
    "    emotions = data['emotion'].values\n",
    "\n",
    "    # Convert pixels from string to integers and reshape to 48x48\n",
    "    X = []\n",
    "    for pixel_sequence in pixels:\n",
    "        pixel_array = np.array([int(pixel) for pixel in pixel_sequence.split()])\n",
    "        X.append(pixel_array.reshape(48, 48, 1))  # Reshape each image to 48x48x1 (grayscale)\n",
    "\n",
    "    X = np.array(X).astype('float32')\n",
    "    y = to_categorical(emotions, num_classes=7)  # One-hot encode labelS\n",
    "    \n",
    "    return X, y\n",
    "\n"
   ]
  },
  {
   "cell_type": "code",
   "execution_count": 16,
   "metadata": {},
   "outputs": [],
   "source": [
    "X, y = load_fer_data('fer2013.csv')\n",
    "X /= 255.0  # Normalize pixel values to [0, 1]"
   ]
  },
  {
   "cell_type": "code",
   "execution_count": 17,
   "metadata": {},
   "outputs": [],
   "source": [
    "X_train, X_temp, y_train, y_temp = train_test_split(X, y, test_size=0.2, random_state=42)\n",
    "X_val, X_test, y_val, y_test = train_test_split(X_temp, y_temp, test_size=0.5, random_state=42)"
   ]
  },
  {
   "cell_type": "code",
   "execution_count": 18,
   "metadata": {},
   "outputs": [],
   "source": [
    "def create_cnn_model():# create the CNN model\n",
    "    model = Sequential() # Create a Sequential model\n",
    "    \n",
    "    # 1st Convolutional Layer\n",
    "    model.add(Conv2D(64, (3, 3), activation='relu' , input_shape=(48, 48, 1)))\n",
    "    model.add(MaxPooling2D(pool_size=(2, 2))) \n",
    "\n",
    "\n",
    "    # 2nd Convolutional Layer\n",
    "    model.add(Conv2D(128, (3, 3), activation='relu'))\n",
    "    model.add(MaxPooling2D(pool_size=(2, 2)))\n",
    "\n",
    "    # 3rd Convolutional Layer\n",
    "    model.add(Conv2D(256, (3, 3), activation='relu'))\n",
    "    model.add(MaxPooling2D(pool_size=(2, 2)))\n",
    "\n",
    "    # Flatten the layers\n",
    "    model.add(Flatten())\n",
    "\n",
    "    # Fully Connected Layer\n",
    "    model.add(Dense(128, activation='relu'))\n",
    "    model.add(Dropout(0.5))\n",
    "\n",
    "    # Output Layer\n",
    "    model.add(Dense(7, activation='softmax'))  # 7 emotion classes\n",
    "\n",
    "    return model\n"
   ]
  },
  {
   "cell_type": "code",
   "execution_count": 19,
   "metadata": {},
   "outputs": [
    {
     "name": "stdout",
     "output_type": "stream",
     "text": [
      "Epoch 1/30\n",
      "449/449 [==============================] - 190s 415ms/step - loss: 1.7510 - accuracy: 0.2877 - val_loss: 1.5836 - val_accuracy: 0.3656\n",
      "Epoch 2/30\n",
      "449/449 [==============================] - 142s 315ms/step - loss: 1.5169 - accuracy: 0.4133 - val_loss: 1.4238 - val_accuracy: 0.4533\n",
      "Epoch 3/30\n",
      "449/449 [==============================] - 135s 301ms/step - loss: 1.3908 - accuracy: 0.4676 - val_loss: 1.3208 - val_accuracy: 0.4946\n",
      "Epoch 4/30\n",
      "449/449 [==============================] - 135s 300ms/step - loss: 1.3142 - accuracy: 0.4981 - val_loss: 1.2611 - val_accuracy: 0.5196\n",
      "Epoch 5/30\n",
      "449/449 [==============================] - 134s 297ms/step - loss: 1.2567 - accuracy: 0.5203 - val_loss: 1.2227 - val_accuracy: 0.5300\n",
      "Epoch 6/30\n",
      "449/449 [==============================] - 142s 317ms/step - loss: 1.2045 - accuracy: 0.5427 - val_loss: 1.2051 - val_accuracy: 0.5467\n",
      "Epoch 7/30\n",
      "449/449 [==============================] - 148s 330ms/step - loss: 1.1659 - accuracy: 0.5597 - val_loss: 1.2038 - val_accuracy: 0.5511\n",
      "Epoch 8/30\n",
      "449/449 [==============================] - 141s 313ms/step - loss: 1.1222 - accuracy: 0.5739 - val_loss: 1.1652 - val_accuracy: 0.5639\n",
      "Epoch 9/30\n",
      "449/449 [==============================] - 142s 316ms/step - loss: 1.0786 - accuracy: 0.5912 - val_loss: 1.1847 - val_accuracy: 0.5548\n",
      "Epoch 10/30\n",
      "449/449 [==============================] - 140s 312ms/step - loss: 1.0459 - accuracy: 0.6013 - val_loss: 1.1766 - val_accuracy: 0.5673\n",
      "Epoch 11/30\n",
      "449/449 [==============================] - 183s 408ms/step - loss: 1.0077 - accuracy: 0.6190 - val_loss: 1.1891 - val_accuracy: 0.5717\n",
      "Epoch 12/30\n",
      "449/449 [==============================] - 213s 475ms/step - loss: 0.9737 - accuracy: 0.6302 - val_loss: 1.1818 - val_accuracy: 0.5665\n",
      "Epoch 13/30\n",
      "449/449 [==============================] - 198s 441ms/step - loss: 0.9356 - accuracy: 0.6456 - val_loss: 1.2016 - val_accuracy: 0.5651\n",
      "Epoch 14/30\n",
      "449/449 [==============================] - 209s 465ms/step - loss: 0.9031 - accuracy: 0.6545 - val_loss: 1.1853 - val_accuracy: 0.5729\n",
      "Epoch 15/30\n",
      "449/449 [==============================] - 205s 456ms/step - loss: 0.8729 - accuracy: 0.6672 - val_loss: 1.2266 - val_accuracy: 0.5690\n",
      "Epoch 16/30\n",
      "449/449 [==============================] - 135s 301ms/step - loss: 0.8346 - accuracy: 0.6743 - val_loss: 1.2722 - val_accuracy: 0.5801\n",
      "Epoch 17/30\n",
      "449/449 [==============================] - 138s 307ms/step - loss: 0.8143 - accuracy: 0.6882 - val_loss: 1.2469 - val_accuracy: 0.5653\n",
      "Epoch 18/30\n",
      "449/449 [==============================] - 157s 349ms/step - loss: 0.7791 - accuracy: 0.6982 - val_loss: 1.2881 - val_accuracy: 0.5720\n",
      "Epoch 19/30\n",
      "449/449 [==============================] - 226s 504ms/step - loss: 0.7408 - accuracy: 0.7104 - val_loss: 1.3334 - val_accuracy: 0.5584\n",
      "Epoch 20/30\n",
      "449/449 [==============================] - 138s 306ms/step - loss: 0.7150 - accuracy: 0.7210 - val_loss: 1.3549 - val_accuracy: 0.5670\n",
      "Epoch 21/30\n",
      "449/449 [==============================] - 128s 284ms/step - loss: 0.6979 - accuracy: 0.7282 - val_loss: 1.4198 - val_accuracy: 0.5762\n",
      "Epoch 22/30\n",
      "449/449 [==============================] - 229s 511ms/step - loss: 0.6675 - accuracy: 0.7403 - val_loss: 1.4951 - val_accuracy: 0.5729\n",
      "Epoch 23/30\n",
      "449/449 [==============================] - 250s 558ms/step - loss: 0.6454 - accuracy: 0.7474 - val_loss: 1.5362 - val_accuracy: 0.5770\n",
      "Epoch 24/30\n",
      "449/449 [==============================] - 174s 388ms/step - loss: 0.6258 - accuracy: 0.7553 - val_loss: 1.5875 - val_accuracy: 0.5726\n",
      "Epoch 25/30\n",
      "449/449 [==============================] - 188s 418ms/step - loss: 0.6026 - accuracy: 0.7617 - val_loss: 1.5897 - val_accuracy: 0.5681\n",
      "Epoch 26/30\n",
      "449/449 [==============================] - 134s 299ms/step - loss: 0.5828 - accuracy: 0.7697 - val_loss: 1.6232 - val_accuracy: 0.5818\n",
      "Epoch 27/30\n",
      "449/449 [==============================] - 132s 295ms/step - loss: 0.5683 - accuracy: 0.7735 - val_loss: 1.6702 - val_accuracy: 0.5759\n",
      "Epoch 28/30\n",
      "449/449 [==============================] - 129s 288ms/step - loss: 0.5403 - accuracy: 0.7835 - val_loss: 1.7445 - val_accuracy: 0.5676\n",
      "Epoch 29/30\n",
      "449/449 [==============================] - 132s 294ms/step - loss: 0.5300 - accuracy: 0.7887 - val_loss: 1.8765 - val_accuracy: 0.5667\n",
      "Epoch 30/30\n",
      "449/449 [==============================] - 145s 322ms/step - loss: 0.5184 - accuracy: 0.7945 - val_loss: 1.8091 - val_accuracy: 0.5698\n"
     ]
    }
   ],
   "source": [
    "model = create_cnn_model()\n",
    "model.compile(optimizer=Adam(learning_rate=0.001), loss='categorical_crossentropy', metrics=['accuracy'])\n",
    "\n",
    "# Train the model\n",
    "history = model.fit(X_train, y_train, validation_data=(X_val, y_val), epochs=30, batch_size=64)\n",
    "\n",
    "# Save the trained model\n",
    "model.save('emotion_detector_model.h5')\n"
   ]
  },
  {
   "cell_type": "code",
   "execution_count": 20,
   "metadata": {},
   "outputs": [
    {
     "data": {
      "image/png": "[encoded data removed]",
      "text/plain": [
       "<Figure size 1200x400 with 2 Axes>"
      ]
     },
     "metadata": {},
     "output_type": "display_data"
    }
   ],
   "source": [
    "def plot_training_history(history):\n",
    "    plt.figure(figsize=(12, 4))\n",
    "\n",
    "    plt.subplot(1, 2, 1)\n",
    "    plt.plot(history.history['accuracy'], label='Train Accuracy')\n",
    "    plt.plot(history.history['val_accuracy'], label='Validation Accuracy')\n",
    "    plt.xlabel('Epochs')\n",
    "    plt.ylabel('Accuracy')\n",
    "    plt.legend()\n",
    "\n",
    "    plt.subplot(1, 2, 2)\n",
    "    plt.plot(history.history['loss'], label='Train Loss')\n",
    "    plt.plot(history.history['val_loss'], label='Validation Loss')\n",
    "    plt.xlabel('Epochs')\n",
    "    plt.ylabel('Loss')\n",
    "    plt.legend()\n",
    "\n",
    "    plt.show()\n",
    "\n",
    "plot_training_history(history)\n",
    "\n"
   ]
  },
  {
   "cell_type": "code",
   "execution_count": 21,
   "metadata": {},
   "outputs": [
    {
     "name": "stdout",
     "output_type": "stream",
     "text": [
      "113/113 [==============================] - 7s 58ms/step - loss: 1.7168 - accuracy: 0.5734\n",
      "Test Accuracy: 57.34%\n"
     ]
    }
   ],
   "source": [
    "test_loss, test_acc = model.evaluate(X_test, y_test)\n",
    "print(f'Test Accuracy: {test_acc * 100:.2f}%')"
   ]
  }
 ],
 "metadata": {
  "kernelspec": {
   "display_name": ".venv",
   "language": "python",
   "name": "python3"
  },
  "language_info": {
   "codemirror_mode": {
    "name": "ipython",
    "version": 3
   },
   "file_extension": ".py",
   "mimetype": "text/x-python",
   "name": "python",
   "nbconvert_exporter": "python",
   "pygments_lexer": "ipython3",
   "version": "3.8.0"
  }
 },
 "nbformat": 4,
 "nbformat_minor": 2
}
